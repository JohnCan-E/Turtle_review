{
 "cells": [
  {
   "cell_type": "markdown",
   "id": "b6873a05-c69d-4d0d-9a75-bf45926a584c",
   "metadata": {
    "tags": []
   },
   "source": [
    "## Project 1 -Funcs"
   ]
  },
  {
   "cell_type": "markdown",
   "id": "cb0c6151-4ffd-46bb-b5da-4f6d1a316bbe",
   "metadata": {
    "tags": []
   },
   "source": [
    "### Turtle  Module\n"
   ]
  },
  {
   "cell_type": "code",
   "execution_count": 2,
   "id": "b53fa919-b2b7-46ac-9d01-8b4c853497f3",
   "metadata": {},
   "outputs": [],
   "source": [
    "# built- in python\n",
    "# https://docs.python.org/3/library/turtle.html\n",
    "\n"
   ]
  },
  {
   "cell_type": "code",
   "execution_count": 2,
   "id": "9f03a435-6086-4aac-9abb-85b17021dda9",
   "metadata": {
    "tags": []
   },
   "outputs": [],
   "source": [
    "# Turtle modulunu iceri alalim\n",
    "import turtle\n"
   ]
  },
  {
   "cell_type": "code",
   "execution_count": 3,
   "id": "21d8b82a-6d59-4cf7-aa46-713adc81b791",
   "metadata": {},
   "outputs": [],
   "source": [
    "turtle.mainloop()"
   ]
  },
  {
   "cell_type": "code",
   "execution_count": 1,
   "id": "43a1caa0-3b88-40c4-b97b-9ec42e4d7b96",
   "metadata": {},
   "outputs": [],
   "source": [
    "#create a func that makes a turtle\n",
    "import turtle\n",
    "def kaplumbaga_yarat():\n",
    "    \n",
    "    t_kaplumbaga=turtle.Turtle()\n",
    "    \n",
    "    print(t_kaplumbaga)\n",
    "    \n",
    "    return t_kaplumbaga"
   ]
  },
  {
   "cell_type": "code",
   "execution_count": 2,
   "id": "ce2f43ca-c0c1-4191-93f5-e87d1be875c3",
   "metadata": {},
   "outputs": [
    {
     "name": "stdout",
     "output_type": "stream",
     "text": [
      "<turtle.Turtle object at 0x000001838833DDF0>\n"
     ]
    }
   ],
   "source": [
    "t_kaplumbaga=kaplumbaga_yarat()\n",
    "turtle.mainloop()"
   ]
  },
  {
   "cell_type": "code",
   "execution_count": 3,
   "id": "77b9ae8b-c391-4c54-85c5-0dc42c509d1b",
   "metadata": {},
   "outputs": [],
   "source": [
    "#turtle.mainloop  kesin yaz, acilan pencerede kullanicinin herhangi bir islem  yapana kadar beklemesini soyler.buda ekrani rahatca kapatmayi saglar"
   ]
  },
  {
   "cell_type": "markdown",
   "id": "f2d88e51-33bb-40c6-89d3-11c6ff82f11c",
   "metadata": {},
   "source": [
    "**Method==Function \n",
    "* turtle.fd(n) -->kaplubaga ileri hareker eder.(forward)\n",
    "* turtle.bk(n) --> geri hareket eder(back)\n",
    "* turtle.lt(d)  --> sola don d acisi kaar (left turn)\n",
    "* turtle.rt(d)  --> saga don d acisi kaar (right turn)"
   ]
  },
  {
   "cell_type": "markdown",
   "id": "9685eacd-4315-40d5-abb9-25d642ce5251",
   "metadata": {},
   "source": [
    "example: draw a 90 degree angle\n",
    "* turtle.fw(100)\n",
    "* turtle.lt(90)\n",
    "* turtle.fd(100)\n"
   ]
  },
  {
   "cell_type": "markdown",
   "id": "950cabbd-0955-4fe2-b46e-04499f8c398d",
   "metadata": {},
   "source": [
    "note: turtle.mainloop(), kodun son satirinda olmali"
   ]
  },
  {
   "cell_type": "code",
   "execution_count": 7,
   "id": "75e41c52-5292-4f62-9b05-ae6a2c32b84f",
   "metadata": {
    "tags": []
   },
   "outputs": [
    {
     "name": "stdout",
     "output_type": "stream",
     "text": [
      "<turtle.Turtle object at 0x00000194C9893FA0>\n"
     ]
    }
   ],
   "source": [
    "#kaplumbaga al \n",
    "import turtle\n",
    "def kaplumbaga_yarat():\n",
    "    \n",
    "    t_kaplumbaga=turtle.Turtle()\n",
    "    \n",
    "    print(t_kaplumbaga)\n",
    "    \n",
    "    return t_kaplumbaga\n",
    "\n",
    "#kplumbaga yarat\n",
    "t_kaplumbaga=kaplumbaga_yarat()\n",
    "\n"
   ]
  },
  {
   "cell_type": "code",
   "execution_count": 8,
   "id": "32caf898-6c97-42ba-8c22-9318fa11b6cd",
   "metadata": {},
   "outputs": [],
   "source": [
    "#kaplumbagayi hareket ettir\n",
    "t_kaplumbaga.fd(100)\n",
    "t_kaplumbaga.lt(90)\n",
    "t_kaplumbaga.fd(100)"
   ]
  },
  {
   "cell_type": "code",
   "execution_count": 9,
   "id": "4df43204-dd4f-4f9e-9068-9f156ab640f2",
   "metadata": {},
   "outputs": [],
   "source": [
    "#mainloop\n",
    "#son satirda olmali\n",
    "turtle.mainloop()"
   ]
  },
  {
   "cell_type": "markdown",
   "id": "5dfd7181-3af5-43f7-adc1-1cf4d3f88d21",
   "metadata": {},
   "source": [
    "* EXAmple\n",
    "##### let's draw the turtle making rectangle\n",
    "##### turtle dikdortgen yapsin\n"
   ]
  },
  {
   "cell_type": "code",
   "execution_count": 1,
   "id": "b7bd0f0b-5531-48a8-88cb-5dd953f5c5a7",
   "metadata": {
    "tags": []
   },
   "outputs": [],
   "source": [
    "import turtle\n",
    "def make_rect():\n",
    "    t_turtle=turtle.Turtle()\n",
    "    \n",
    "    return t_turtle\n",
    "\n",
    "t_turtle=make_rect()\n"
   ]
  },
  {
   "cell_type": "code",
   "execution_count": 2,
   "id": "5c0663e5-73ad-487a-b9ba-d1fdce96744d",
   "metadata": {},
   "outputs": [],
   "source": []
  },
  {
   "cell_type": "code",
   "execution_count": 3,
   "id": "9b493e90-e182-4649-9036-f9b93e618eb3",
   "metadata": {},
   "outputs": [],
   "source": [
    "turtle.mainloop()"
   ]
  },
  {
   "cell_type": "code",
   "execution_count": null,
   "id": "4a9548c8-35d3-4d65-83bc-a3c48b312317",
   "metadata": {},
   "outputs": [],
   "source": []
  },
  {
   "cell_type": "code",
   "execution_count": null,
   "id": "cef1168e-0a6d-47f3-8697-55863854d4c5",
   "metadata": {},
   "outputs": [],
   "source": []
  },
  {
   "cell_type": "code",
   "execution_count": 12,
   "id": "845fe50d-e059-40b0-8031-bb1c0bb7f0c7",
   "metadata": {},
   "outputs": [],
   "source": []
  },
  {
   "cell_type": "code",
   "execution_count": 13,
   "id": "de9f6e64-d80b-4856-8cdd-f92b5512b9c0",
   "metadata": {},
   "outputs": [],
   "source": [
    "import turtle\n",
    "\n",
    "t_turtle=turtle.Turtle()\n",
    "    \n",
    "    "
   ]
  },
  {
   "cell_type": "code",
   "execution_count": 30,
   "id": "91b19611-bc04-4f9f-90dd-d5147aef1f40",
   "metadata": {},
   "outputs": [
    {
     "ename": "TclError",
     "evalue": "invalid command name \".!canvas\"",
     "output_type": "error",
     "traceback": [
      "\u001b[1;31m---------------------------------------------------------------------------\u001b[0m",
      "\u001b[1;31mTclError\u001b[0m                                  Traceback (most recent call last)",
      "\u001b[1;32m~\\AppData\\Local\\Temp\\ipykernel_35272\\1878232166.py\u001b[0m in \u001b[0;36m<module>\u001b[1;34m\u001b[0m\n\u001b[0;32m      1\u001b[0m \u001b[1;32mfor\u001b[0m \u001b[0mi\u001b[0m \u001b[1;32min\u001b[0m \u001b[0mrange\u001b[0m\u001b[1;33m(\u001b[0m\u001b[1;36m4\u001b[0m\u001b[1;33m)\u001b[0m\u001b[1;33m:\u001b[0m\u001b[1;33m\u001b[0m\u001b[1;33m\u001b[0m\u001b[0m\n\u001b[1;32m----> 2\u001b[1;33m     \u001b[0mt_turtle\u001b[0m\u001b[1;33m.\u001b[0m\u001b[0mfd\u001b[0m\u001b[1;33m(\u001b[0m\u001b[1;36m100\u001b[0m\u001b[1;33m)\u001b[0m\u001b[1;33m\u001b[0m\u001b[1;33m\u001b[0m\u001b[0m\n\u001b[0m\u001b[0;32m      3\u001b[0m     \u001b[0mt_turtle\u001b[0m\u001b[1;33m.\u001b[0m\u001b[0mlt\u001b[0m\u001b[1;33m(\u001b[0m\u001b[1;36m90\u001b[0m\u001b[1;33m)\u001b[0m\u001b[1;33m\u001b[0m\u001b[1;33m\u001b[0m\u001b[0m\n\u001b[0;32m      4\u001b[0m \u001b[1;33m\u001b[0m\u001b[0m\n\u001b[0;32m      5\u001b[0m \u001b[0mturtle\u001b[0m\u001b[1;33m.\u001b[0m\u001b[0mmainloop\u001b[0m\u001b[1;33m(\u001b[0m\u001b[1;33m)\u001b[0m\u001b[1;33m\u001b[0m\u001b[1;33m\u001b[0m\u001b[0m\n",
      "\u001b[1;32m~\\anaconda3\\lib\\turtle.py\u001b[0m in \u001b[0;36mforward\u001b[1;34m(self, distance)\u001b[0m\n\u001b[0;32m   1636\u001b[0m         \u001b[1;33m(\u001b[0m\u001b[1;33m-\u001b[0m\u001b[1;36m50.00\u001b[0m\u001b[1;33m,\u001b[0m\u001b[1;36m0.00\u001b[0m\u001b[1;33m)\u001b[0m\u001b[1;33m\u001b[0m\u001b[1;33m\u001b[0m\u001b[0m\n\u001b[0;32m   1637\u001b[0m         \"\"\"\n\u001b[1;32m-> 1638\u001b[1;33m         \u001b[0mself\u001b[0m\u001b[1;33m.\u001b[0m\u001b[0m_go\u001b[0m\u001b[1;33m(\u001b[0m\u001b[0mdistance\u001b[0m\u001b[1;33m)\u001b[0m\u001b[1;33m\u001b[0m\u001b[1;33m\u001b[0m\u001b[0m\n\u001b[0m\u001b[0;32m   1639\u001b[0m \u001b[1;33m\u001b[0m\u001b[0m\n\u001b[0;32m   1640\u001b[0m     \u001b[1;32mdef\u001b[0m \u001b[0mback\u001b[0m\u001b[1;33m(\u001b[0m\u001b[0mself\u001b[0m\u001b[1;33m,\u001b[0m \u001b[0mdistance\u001b[0m\u001b[1;33m)\u001b[0m\u001b[1;33m:\u001b[0m\u001b[1;33m\u001b[0m\u001b[1;33m\u001b[0m\u001b[0m\n",
      "\u001b[1;32m~\\anaconda3\\lib\\turtle.py\u001b[0m in \u001b[0;36m_go\u001b[1;34m(self, distance)\u001b[0m\n\u001b[0;32m   1604\u001b[0m         \u001b[1;34m\"\"\"move turtle forward by specified distance\"\"\"\u001b[0m\u001b[1;33m\u001b[0m\u001b[1;33m\u001b[0m\u001b[0m\n\u001b[0;32m   1605\u001b[0m         \u001b[0mende\u001b[0m \u001b[1;33m=\u001b[0m \u001b[0mself\u001b[0m\u001b[1;33m.\u001b[0m\u001b[0m_position\u001b[0m \u001b[1;33m+\u001b[0m \u001b[0mself\u001b[0m\u001b[1;33m.\u001b[0m\u001b[0m_orient\u001b[0m \u001b[1;33m*\u001b[0m \u001b[0mdistance\u001b[0m\u001b[1;33m\u001b[0m\u001b[1;33m\u001b[0m\u001b[0m\n\u001b[1;32m-> 1606\u001b[1;33m         \u001b[0mself\u001b[0m\u001b[1;33m.\u001b[0m\u001b[0m_goto\u001b[0m\u001b[1;33m(\u001b[0m\u001b[0mende\u001b[0m\u001b[1;33m)\u001b[0m\u001b[1;33m\u001b[0m\u001b[1;33m\u001b[0m\u001b[0m\n\u001b[0m\u001b[0;32m   1607\u001b[0m \u001b[1;33m\u001b[0m\u001b[0m\n\u001b[0;32m   1608\u001b[0m     \u001b[1;32mdef\u001b[0m \u001b[0m_rotate\u001b[0m\u001b[1;33m(\u001b[0m\u001b[0mself\u001b[0m\u001b[1;33m,\u001b[0m \u001b[0mangle\u001b[0m\u001b[1;33m)\u001b[0m\u001b[1;33m:\u001b[0m\u001b[1;33m\u001b[0m\u001b[1;33m\u001b[0m\u001b[0m\n",
      "\u001b[1;32m~\\anaconda3\\lib\\turtle.py\u001b[0m in \u001b[0;36m_goto\u001b[1;34m(self, end)\u001b[0m\n\u001b[0;32m   3158\u001b[0m                       (self.currentLineItem,\n\u001b[0;32m   3159\u001b[0m                       \u001b[0mself\u001b[0m\u001b[1;33m.\u001b[0m\u001b[0mcurrentLine\u001b[0m\u001b[1;33m[\u001b[0m\u001b[1;33m:\u001b[0m\u001b[1;33m]\u001b[0m\u001b[1;33m,\u001b[0m\u001b[1;33m\u001b[0m\u001b[1;33m\u001b[0m\u001b[0m\n\u001b[1;32m-> 3160\u001b[1;33m                       \u001b[0mscreen\u001b[0m\u001b[1;33m.\u001b[0m\u001b[0m_pointlist\u001b[0m\u001b[1;33m(\u001b[0m\u001b[0mself\u001b[0m\u001b[1;33m.\u001b[0m\u001b[0mcurrentLineItem\u001b[0m\u001b[1;33m)\u001b[0m\u001b[1;33m,\u001b[0m\u001b[1;33m\u001b[0m\u001b[1;33m\u001b[0m\u001b[0m\n\u001b[0m\u001b[0;32m   3161\u001b[0m                       self.items[:])\n\u001b[0;32m   3162\u001b[0m                       )\n",
      "\u001b[1;32m~\\anaconda3\\lib\\turtle.py\u001b[0m in \u001b[0;36m_pointlist\u001b[1;34m(self, item)\u001b[0m\n\u001b[0;32m    752\u001b[0m         (9.9999999999999982, 0.0)]\n\u001b[0;32m    753\u001b[0m         >>> \"\"\"\n\u001b[1;32m--> 754\u001b[1;33m         \u001b[0mcl\u001b[0m \u001b[1;33m=\u001b[0m \u001b[0mself\u001b[0m\u001b[1;33m.\u001b[0m\u001b[0mcv\u001b[0m\u001b[1;33m.\u001b[0m\u001b[0mcoords\u001b[0m\u001b[1;33m(\u001b[0m\u001b[0mitem\u001b[0m\u001b[1;33m)\u001b[0m\u001b[1;33m\u001b[0m\u001b[1;33m\u001b[0m\u001b[0m\n\u001b[0m\u001b[0;32m    755\u001b[0m         \u001b[0mpl\u001b[0m \u001b[1;33m=\u001b[0m \u001b[1;33m[\u001b[0m\u001b[1;33m(\u001b[0m\u001b[0mcl\u001b[0m\u001b[1;33m[\u001b[0m\u001b[0mi\u001b[0m\u001b[1;33m]\u001b[0m\u001b[1;33m,\u001b[0m \u001b[1;33m-\u001b[0m\u001b[0mcl\u001b[0m\u001b[1;33m[\u001b[0m\u001b[0mi\u001b[0m\u001b[1;33m+\u001b[0m\u001b[1;36m1\u001b[0m\u001b[1;33m]\u001b[0m\u001b[1;33m)\u001b[0m \u001b[1;32mfor\u001b[0m \u001b[0mi\u001b[0m \u001b[1;32min\u001b[0m \u001b[0mrange\u001b[0m\u001b[1;33m(\u001b[0m\u001b[1;36m0\u001b[0m\u001b[1;33m,\u001b[0m \u001b[0mlen\u001b[0m\u001b[1;33m(\u001b[0m\u001b[0mcl\u001b[0m\u001b[1;33m)\u001b[0m\u001b[1;33m,\u001b[0m \u001b[1;36m2\u001b[0m\u001b[1;33m)\u001b[0m\u001b[1;33m]\u001b[0m\u001b[1;33m\u001b[0m\u001b[1;33m\u001b[0m\u001b[0m\n\u001b[0;32m    756\u001b[0m         \u001b[1;32mreturn\u001b[0m  \u001b[0mpl\u001b[0m\u001b[1;33m\u001b[0m\u001b[1;33m\u001b[0m\u001b[0m\n",
      "\u001b[1;32m<string>\u001b[0m in \u001b[0;36mcoords\u001b[1;34m(self, *args, **kw)\u001b[0m\n",
      "\u001b[1;32m~\\anaconda3\\lib\\tkinter\\__init__.py\u001b[0m in \u001b[0;36mcoords\u001b[1;34m(self, *args)\u001b[0m\n\u001b[0;32m   2764\u001b[0m         return [self.tk.getdouble(x) for x in\n\u001b[0;32m   2765\u001b[0m                            self.tk.splitlist(\n\u001b[1;32m-> 2766\u001b[1;33m                    self.tk.call((self._w, 'coords') + args))]\n\u001b[0m\u001b[0;32m   2767\u001b[0m \u001b[1;33m\u001b[0m\u001b[0m\n\u001b[0;32m   2768\u001b[0m     \u001b[1;32mdef\u001b[0m \u001b[0m_create\u001b[0m\u001b[1;33m(\u001b[0m\u001b[0mself\u001b[0m\u001b[1;33m,\u001b[0m \u001b[0mitemType\u001b[0m\u001b[1;33m,\u001b[0m \u001b[0margs\u001b[0m\u001b[1;33m,\u001b[0m \u001b[0mkw\u001b[0m\u001b[1;33m)\u001b[0m\u001b[1;33m:\u001b[0m \u001b[1;31m# Args: (val, val, ..., cnf={})\u001b[0m\u001b[1;33m\u001b[0m\u001b[1;33m\u001b[0m\u001b[0m\n",
      "\u001b[1;31mTclError\u001b[0m: invalid command name \".!canvas\""
     ]
    }
   ],
   "source": [
    "\n",
    "for i in range(4):\n",
    "    t_turtle.fd(100)\n",
    "    t_turtle.lt(90)\n",
    "\n",
    "turtle.mainloop()\n",
    "    "
   ]
  },
  {
   "cell_type": "code",
   "execution_count": null,
   "id": "1961d4bc-fd1a-4ff8-b476-f070fd1976f6",
   "metadata": {},
   "outputs": [],
   "source": [
    "for i in range(4):\n",
    "    print(\"Hello World\")\n"
   ]
  },
  {
   "cell_type": "code",
   "execution_count": null,
   "id": "7324aeb8-1289-4a78-a139-eb3d0c9c4265",
   "metadata": {},
   "outputs": [],
   "source": []
  },
  {
   "cell_type": "code",
   "execution_count": null,
   "id": "70a19d91-6535-45af-b0ae-df7b7db0b84a",
   "metadata": {},
   "outputs": [],
   "source": [
    "import turtle\n",
    "def make_rect():\n",
    "    t_turtle=turtle.Turtle()\n",
    "    \n",
    "    return t_turtle\n",
    "\n",
    "t_turtle=make_rect()"
   ]
  },
  {
   "cell_type": "code",
   "execution_count": null,
   "id": "d0ae5650-5c4a-4b5c-bc9d-cfb73a731963",
   "metadata": {},
   "outputs": [],
   "source": [
    "t_turtle.fd(100)\n",
    "t_turtle.lt(90)\n",
    "t_turtle.fd(100)\n",
    "t_turtle.lt(90)\n",
    "t_turtle.fd(100)\n",
    "t_turtle.lt(90)\n",
    "t_turtle.fd(100)\n",
    "t_turtle.lt(90)"
   ]
  },
  {
   "cell_type": "markdown",
   "id": "917f33a8-f99c-4c9b-8bc5-e84ee51d6920",
   "metadata": {},
   "source": [
    "practice\n"
   ]
  },
  {
   "cell_type": "code",
   "execution_count": null,
   "id": "f05459c8-e746-403a-9808-a1ad21abf999",
   "metadata": {},
   "outputs": [],
   "source": [
    "#write a func name is rectangle.the func as turtle type and the name is t parameter take\n",
    "\n",
    "#as takes parameters how many steps will func move to\n",
    "#the func will use this turtle and make a rectange"
   ]
  },
  {
   "cell_type": "code",
   "execution_count": null,
   "id": "df3a5347-6330-4aa3-b00e-62732e8985eb",
   "metadata": {},
   "outputs": [],
   "source": [
    "#ismi kare olan bir fonksiyon yazin \n",
    "#kaplumbga tipinde t adinda bir  parametre alsin \n",
    "#ek olarak kac adim yuruyecegi bir parametre alsin \n",
    "#bu kaplumbaga ile bir kare cizsin\n"
   ]
  },
  {
   "cell_type": "code",
   "execution_count": 73,
   "id": "c10cd8b2-ffd0-4ecc-927f-7d7c801c1438",
   "metadata": {},
   "outputs": [],
   "source": [
    "import turtle\n"
   ]
  },
  {
   "cell_type": "code",
   "execution_count": 74,
   "id": "72450053-2173-4379-b4a7-31e0dc5680fd",
   "metadata": {},
   "outputs": [],
   "source": [
    "#Cozum 1 \n",
    "#def func\n",
    "\n",
    "def kare(t,uzunluk):\n",
    "    \"\"\"\n",
    "    kaplumbaga ile kare cizen func\n",
    "    parameters: \n",
    "            \" t: turtle tipinde\n",
    "            \" uzunk=luk: int tipinde (pixel)\n",
    "    \"\"\"\n",
    "    \n",
    "    # for ile kare \n",
    "    for i in  range (4):\n",
    "        t.fd(uzunluk)\n",
    "        t.lt(90)\n",
    "    \n",
    "    "
   ]
  },
  {
   "cell_type": "code",
   "execution_count": 80,
   "id": "f830fe87-9dd1-4741-9c73-4ce8999a2ecb",
   "metadata": {},
   "outputs": [],
   "source": [
    "#once turtle yaratalim\n",
    "t_turtle=turtle.Turtle()\n"
   ]
  },
  {
   "cell_type": "code",
   "execution_count": 81,
   "id": "9464a39d-4b05-4d5a-83be-a7c682e960d1",
   "metadata": {},
   "outputs": [],
   "source": [
    "#kare funcini cagiralim\n",
    "\n",
    "# once 100 pixel ile\n",
    "kare(t_turtle,100)"
   ]
  },
  {
   "cell_type": "code",
   "execution_count": 82,
   "id": "39eced63-e1c3-4e45-965e-ef516eacac76",
   "metadata": {},
   "outputs": [],
   "source": [
    "#sonra 200 pixel ile cagiralim\n",
    "kare(t_turtle,200)"
   ]
  },
  {
   "cell_type": "code",
   "execution_count": 83,
   "id": "a0037a88-29f5-4dcb-8d0f-bff55fc6cc6a",
   "metadata": {},
   "outputs": [],
   "source": [
    "kare(t_turtle,300)"
   ]
  },
  {
   "cell_type": "code",
   "execution_count": 84,
   "id": "11f78a2f-a06f-4dda-b1a4-9862ed43c852",
   "metadata": {},
   "outputs": [],
   "source": [
    "turtle.mainloop()"
   ]
  },
  {
   "cell_type": "code",
   "execution_count": null,
   "id": "e2216412-c968-42b6-b1e1-edf5ae86ec3f",
   "metadata": {},
   "outputs": [],
   "source": [
    "t_turtle.clean(kare)"
   ]
  },
  {
   "cell_type": "markdown",
   "id": "c4c7ec0e-b6ae-4f80-b51b-7c533250cd7f",
   "metadata": {},
   "source": [
    "---\n"
   ]
  },
  {
   "cell_type": "markdown",
   "id": "a6294bd9-ea02-4eb5-969d-2e6461df7086",
   "metadata": {},
   "source": [
    "**Practice2 :**"
   ]
  },
  {
   "cell_type": "markdown",
   "id": "aaaf54eb-1ffe-4168-a034-630b54d23081",
   "metadata": {},
   "source": [
    "crete a func that draws a polygon  \n",
    "\n",
    "parameters : turtle, distance, number of sides"
   ]
  },
  {
   "cell_type": "code",
   "execution_count": 1,
   "id": "05987e96-4e6f-42e3-964e-21cddcffbd50",
   "metadata": {},
   "outputs": [],
   "source": [
    "import turtle \n",
    "t=turtle.Turtle()"
   ]
  },
  {
   "cell_type": "code",
   "execution_count": 2,
   "id": "905fe475-5cb5-4b45-903e-47a6377ce5e4",
   "metadata": {},
   "outputs": [],
   "source": [
    "def polygon(t,distance, n):\n",
    "    \"\"\"\n",
    "    drawing a polygon with turtle\n",
    "    parameters: \n",
    "        \"t         :turtle\n",
    "        \"distance  :step numbers\n",
    "        \"n         :type(int) side numbers\n",
    "    \"\"\"\n",
    "    \n",
    "    for i in range(n):\n",
    "        t.fd(distance)\n",
    "        t.lt(90)"
   ]
  },
  {
   "cell_type": "code",
   "execution_count": 3,
   "id": "24d82d77-8bc7-4a20-a87b-6be57761d7cf",
   "metadata": {},
   "outputs": [],
   "source": [
    "polygon(t,100, 6)"
   ]
  },
  {
   "cell_type": "code",
   "execution_count": null,
   "id": "1895426f-9342-4c7b-82aa-6d85c810a0cf",
   "metadata": {},
   "outputs": [],
   "source": [
    "turtle.mainloop()"
   ]
  },
  {
   "cell_type": "code",
   "execution_count": null,
   "id": "f0f06678-2c81-4333-9960-5b52e478c9ab",
   "metadata": {},
   "outputs": [],
   "source": [
    "t.clear()"
   ]
  },
  {
   "cell_type": "markdown",
   "id": "2a61c3f7-f59d-4d19-ac44-e901c9097d3d",
   "metadata": {},
   "source": [
    "* hexagon degree: 360/6= 60 "
   ]
  },
  {
   "cell_type": "code",
   "execution_count": 1,
   "id": "cbd7eed3-1b23-4742-8c8a-711b7308116a",
   "metadata": {},
   "outputs": [],
   "source": [
    "import turtle \n",
    "t=turtle.Turtle()"
   ]
  },
  {
   "cell_type": "code",
   "execution_count": 2,
   "id": "fbeb5afb-854c-43ef-bc92-5edac5376ff8",
   "metadata": {},
   "outputs": [],
   "source": [
    "def polygon(t,distance, n):\n",
    "    \"\"\"\n",
    "    drawing a polygon with turtle\n",
    "    parameters: \n",
    "        \"t         :turtle\n",
    "        \"distance  :step numbers\n",
    "        \"n         :type(int) side numbers\n",
    "    \"\"\"\n",
    "    # rotation degree\n",
    "    angle=360/n\n",
    "    \n",
    "    for i in range(n):\n",
    "        t.fd(distance)\n",
    "        t.lt(angle)"
   ]
  },
  {
   "cell_type": "code",
   "execution_count": 3,
   "id": "920976ce-a55c-40c2-885e-1112a56cb3bc",
   "metadata": {},
   "outputs": [],
   "source": [
    "polygon(t,distance=100,n=10)"
   ]
  },
  {
   "cell_type": "code",
   "execution_count": 4,
   "id": "8d28ef42-cd8c-4659-989b-eb42ad16a1be",
   "metadata": {},
   "outputs": [],
   "source": [
    "turtle.mainloop()"
   ]
  },
  {
   "cell_type": "markdown",
   "id": "882b16d1-354f-4e50-bc74-2e063b142236",
   "metadata": {},
   "source": [
    "---"
   ]
  },
  {
   "cell_type": "markdown",
   "id": "ea22d8f6-c3e6-4265-9a27-df6774176d84",
   "metadata": {},
   "source": [
    "---"
   ]
  },
  {
   "cell_type": "code",
   "execution_count": null,
   "id": "eb06e042-a43b-4ca8-8033-3ac115b8455e",
   "metadata": {},
   "outputs": [],
   "source": [
    "import turtle "
   ]
  },
  {
   "cell_type": "code",
   "execution_count": null,
   "id": "680d4b1c-846a-43ff-9a63-1eeaee7b85af",
   "metadata": {},
   "outputs": [],
   "source": [
    "def rectangled(t,distance):\n",
    "    \"\"\"\n",
    "        turtle draws a rectangle.\n",
    "        parameters: \n",
    "            * t: turtle typed and distance \n",
    "            * distance: int typed step numbers(pixel)\n",
    "    \"\"\"\n",
    "    for i in range (4):\n",
    "        t.fd(100)\n",
    "        t.lt(90)"
   ]
  },
  {
   "cell_type": "code",
   "execution_count": null,
   "id": "7e10da0f-5337-46e7-93da-9d178eb7d2ae",
   "metadata": {},
   "outputs": [],
   "source": [
    "t=turtle.Turtle()"
   ]
  },
  {
   "cell_type": "code",
   "execution_count": null,
   "id": "f3e95633-f96c-4458-8cb3-ae59f6a0c505",
   "metadata": {},
   "outputs": [],
   "source": [
    "rectangled(t,100)"
   ]
  },
  {
   "cell_type": "code",
   "execution_count": null,
   "id": "88996d13-506a-4bd8-bb77-ff200b372e6c",
   "metadata": {},
   "outputs": [],
   "source": [
    "rectangled(t,200)"
   ]
  },
  {
   "cell_type": "code",
   "execution_count": null,
   "id": "388aa302-7fec-499f-ad75-18e68ff8150d",
   "metadata": {},
   "outputs": [],
   "source": [
    "rectangled(t,300)"
   ]
  },
  {
   "cell_type": "code",
   "execution_count": null,
   "id": "36cecadf-67ef-4082-81d3-0b578a47877c",
   "metadata": {},
   "outputs": [],
   "source": [
    "#drawing inside the rectangle with some other rectangles\n",
    "# 300 - 100 = 200\n",
    "# 10 times will be drawn  200 / 10 = 20 times drawn\n",
    "for i in range (10):\n",
    "    rectangled(tospik,100+i*20)"
   ]
  },
  {
   "cell_type": "code",
   "execution_count": null,
   "id": "99c72280-3a88-437a-8de2-4be86bd7f3e7",
   "metadata": {},
   "outputs": [],
   "source": [
    "t.clear()"
   ]
  },
  {
   "cell_type": "code",
   "execution_count": null,
   "id": "b8ddcaf0-5bb4-455d-89eb-0759a9c89deb",
   "metadata": {},
   "outputs": [],
   "source": []
  },
  {
   "cell_type": "code",
   "execution_count": null,
   "id": "b88f71d5-fb08-4ba4-911b-f0a57a1f6a7a",
   "metadata": {},
   "outputs": [],
   "source": []
  },
  {
   "cell_type": "code",
   "execution_count": null,
   "id": "ac5e034f-7acd-416a-a5f8-371038273eb3",
   "metadata": {},
   "outputs": [],
   "source": []
  },
  {
   "cell_type": "code",
   "execution_count": null,
   "id": "0c2fe606-676c-4a54-a1bd-068ebeb141cd",
   "metadata": {},
   "outputs": [],
   "source": []
  },
  {
   "cell_type": "code",
   "execution_count": null,
   "id": "6311c719-0453-408f-a3f3-4aa1f9964285",
   "metadata": {},
   "outputs": [],
   "source": []
  },
  {
   "cell_type": "code",
   "execution_count": null,
   "id": "51995ab4-fd14-443a-a654-a88791991fef",
   "metadata": {},
   "outputs": [],
   "source": []
  },
  {
   "cell_type": "code",
   "execution_count": null,
   "id": "537d7a51-c814-4988-a29e-bc50fd582a66",
   "metadata": {},
   "outputs": [],
   "source": []
  },
  {
   "cell_type": "code",
   "execution_count": null,
   "id": "399dce07-e184-449f-bcd1-00e18cd93ca1",
   "metadata": {},
   "outputs": [],
   "source": []
  },
  {
   "cell_type": "code",
   "execution_count": null,
   "id": "58b4271c-1365-456f-97a0-25b65b189a34",
   "metadata": {},
   "outputs": [],
   "source": []
  },
  {
   "cell_type": "code",
   "execution_count": null,
   "id": "a3e4161d-5bb0-4ac9-aea5-a48150e5e2ec",
   "metadata": {},
   "outputs": [],
   "source": []
  },
  {
   "cell_type": "code",
   "execution_count": null,
   "id": "ca066404-6525-400e-9e92-a410b267574d",
   "metadata": {},
   "outputs": [],
   "source": []
  },
  {
   "cell_type": "code",
   "execution_count": null,
   "id": "0d722fb3-c2b9-443b-b538-fb1e487496a4",
   "metadata": {},
   "outputs": [],
   "source": []
  },
  {
   "cell_type": "code",
   "execution_count": null,
   "id": "8dee00fe-71b2-4656-bde8-b46db10eedbd",
   "metadata": {},
   "outputs": [],
   "source": []
  }
 ],
 "metadata": {
  "kernelspec": {
   "display_name": "Python 3 (ipykernel)",
   "language": "python",
   "name": "python3"
  },
  "language_info": {
   "codemirror_mode": {
    "name": "ipython",
    "version": 3
   },
   "file_extension": ".py",
   "mimetype": "text/x-python",
   "name": "python",
   "nbconvert_exporter": "python",
   "pygments_lexer": "ipython3",
   "version": "3.9.13"
  }
 },
 "nbformat": 4,
 "nbformat_minor": 5
}
